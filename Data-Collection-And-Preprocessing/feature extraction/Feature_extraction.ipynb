{
  "nbformat": 4,
  "nbformat_minor": 0,
  "metadata": {
    "colab": {
      "provenance": []
    },
    "kernelspec": {
      "name": "python3",
      "display_name": "Python 3"
    },
    "language_info": {
      "name": "python"
    }
  },
  "cells": [
    {
      "cell_type": "markdown",
      "source": [
        "Feature Extraction of Text data\n",
        "\n",
        "The mapping from textual data to real values vectors is called feature extraction"
      ],
      "metadata": {
        "id": "RBVCBOhDP5sQ"
      }
    },
    {
      "cell_type": "markdown",
      "source": [
        "Bag of Words(BOW) : list of unique words in the text corpus\n"
      ],
      "metadata": {
        "id": "lWqPG4s-QM2O"
      }
    },
    {
      "cell_type": "markdown",
      "source": [
        "Term Frequency-Inverse Document Frequency(TF-IDF): to count the number of times each word appears in a document"
      ],
      "metadata": {
        "id": "IMN99XPcQbG2"
      }
    },
    {
      "cell_type": "markdown",
      "source": [
        "Term Frequency(TF) = (Number of times term t appears in a document/Number of terms in the document)"
      ],
      "metadata": {
        "id": "Tde45F2fQyz9"
      }
    },
    {
      "cell_type": "markdown",
      "source": [
        "Inverse Document Frequency(IDF) = log(N/n) , where N is the number of documents and n is the number of documents a term t has appeared in."
      ],
      "metadata": {
        "id": "QdZsUb2bQ6t4"
      }
    },
    {
      "cell_type": "markdown",
      "source": [
        "the IDF value of a rare word is high where as the IDF of a frequent word is low"
      ],
      "metadata": {
        "id": "bY7TXk0dSiqm"
      }
    },
    {
      "cell_type": "markdown",
      "source": [
        "TF-IDF value of a term = TF*IDF"
      ],
      "metadata": {
        "id": "bxP7c8cbSrMi"
      }
    },
    {
      "cell_type": "markdown",
      "source": [
        "for iska practical - you can refer fake news predictor project"
      ],
      "metadata": {
        "id": "Uep8FYotWKMe"
      }
    },
    {
      "cell_type": "code",
      "execution_count": 1,
      "metadata": {
        "colab": {
          "base_uri": "https://localhost:8080/",
          "height": 106
        },
        "id": "wbsZp_XeLU_A",
        "outputId": "02168ceb-6914-4cc6-a878-9f6d0f7495d9"
      },
      "outputs": [
        {
          "output_type": "error",
          "ename": "SyntaxError",
          "evalue": "invalid syntax (ipython-input-121347232.py, line 1)",
          "traceback": [
            "\u001b[0;36m  File \u001b[0;32m\"/tmp/ipython-input-121347232.py\"\u001b[0;36m, line \u001b[0;32m1\u001b[0m\n\u001b[0;31m    Term Frequency-Inverse Document Frequency(TF-IDF)\u001b[0m\n\u001b[0m         ^\u001b[0m\n\u001b[0;31mSyntaxError\u001b[0m\u001b[0;31m:\u001b[0m invalid syntax\n"
          ]
        }
      ],
      "source": [
        ""
      ]
    },
    {
      "cell_type": "code",
      "source": [],
      "metadata": {
        "id": "M1A0gTg1QYuo"
      },
      "execution_count": null,
      "outputs": []
    }
  ]
}